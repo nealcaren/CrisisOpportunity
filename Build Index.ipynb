{
 "cells": [
  {
   "cell_type": "code",
   "execution_count": 1,
   "id": "eceefc98",
   "metadata": {},
   "outputs": [],
   "source": [
    "import pandas as pd"
   ]
  },
  {
   "cell_type": "code",
   "execution_count": 2,
   "id": "125d8950",
   "metadata": {},
   "outputs": [
    {
     "data": {
      "text/html": [
       "<div>\n",
       "<style scoped>\n",
       "    .dataframe tbody tr th:only-of-type {\n",
       "        vertical-align: middle;\n",
       "    }\n",
       "\n",
       "    .dataframe tbody tr th {\n",
       "        vertical-align: top;\n",
       "    }\n",
       "\n",
       "    .dataframe thead th {\n",
       "        text-align: right;\n",
       "    }\n",
       "</style>\n",
       "<table border=\"1\" class=\"dataframe\">\n",
       "  <thead>\n",
       "    <tr style=\"text-align: right;\">\n",
       "      <th></th>\n",
       "      <th>fn</th>\n",
       "      <th>artist</th>\n",
       "      <th>title</th>\n",
       "      <th>year</th>\n",
       "      <th>slug</th>\n",
       "    </tr>\n",
       "  </thead>\n",
       "  <tbody>\n",
       "    <tr>\n",
       "      <th>10</th>\n",
       "      <td>Allan Randall Freelon,Gloucester Harbor,1929</td>\n",
       "      <td>Allan Randall Freelon</td>\n",
       "      <td>Gloucester Harbor</td>\n",
       "      <td>1929</td>\n",
       "      <td>gloucester-harbor</td>\n",
       "    </tr>\n",
       "    <tr>\n",
       "      <th>34</th>\n",
       "      <td>Walter Sanford, Study in Black and White, 1949</td>\n",
       "      <td>Walter Sanford</td>\n",
       "      <td>Study in Black and White</td>\n",
       "      <td>1949</td>\n",
       "      <td>study-in-black-and-white</td>\n",
       "    </tr>\n",
       "    <tr>\n",
       "      <th>35</th>\n",
       "      <td>Norman Lewis,Meeting Place, 1941</td>\n",
       "      <td>Norman Lewis</td>\n",
       "      <td>Meeting Place</td>\n",
       "      <td>1941</td>\n",
       "      <td>meeting-place</td>\n",
       "    </tr>\n",
       "  </tbody>\n",
       "</table>\n",
       "</div>"
      ],
      "text/plain": [
       "                                                fn                 artist  \\\n",
       "10    Allan Randall Freelon,Gloucester Harbor,1929  Allan Randall Freelon   \n",
       "34  Walter Sanford, Study in Black and White, 1949         Walter Sanford   \n",
       "35                Norman Lewis,Meeting Place, 1941           Norman Lewis   \n",
       "\n",
       "                       title  year                      slug  \n",
       "10         Gloucester Harbor  1929         gloucester-harbor  \n",
       "34  Study in Black and White  1949  study-in-black-and-white  \n",
       "35             Meeting Place  1941             meeting-place  "
      ]
     },
     "execution_count": 2,
     "metadata": {},
     "output_type": "execute_result"
    }
   ],
   "source": [
    "df_art= pd.read_csv('art.csv')\n",
    "df_art.sample(3)"
   ]
  },
  {
   "cell_type": "code",
   "execution_count": 3,
   "id": "7b3cbc31",
   "metadata": {},
   "outputs": [],
   "source": [
    "def make_art_cite(row):\n",
    "    artist = row['artist']\n",
    "    title = row['title']\n",
    "    year = row['year']\n",
    "    return f'{artist}, *{title}*, {year}'\n",
    "\n",
    "df_art['cite'] = df_art.apply(make_art_cite, axis=1)\n",
    "df_art['link'] = '![](Images/' + df_art['slug'] + '.png)'"
   ]
  },
  {
   "cell_type": "code",
   "execution_count": 4,
   "id": "a0631f68",
   "metadata": {},
   "outputs": [],
   "source": [
    "art_table = df_art.sort_values(by='year')[['link','cite']].to_markdown(index=False)\n",
    "with open('markdown/art.md', 'w') as outfile:\n",
    "    outfile.write(art_table)"
   ]
  },
  {
   "cell_type": "code",
   "execution_count": 5,
   "id": "df407fea",
   "metadata": {},
   "outputs": [],
   "source": [
    "art_dict = df_art.set_index('slug')['cite'].to_dict()"
   ]
  },
  {
   "cell_type": "code",
   "execution_count": 6,
   "id": "f29d5df9",
   "metadata": {},
   "outputs": [],
   "source": [
    "prefix = '''[&nbsp;]{.motto}\n",
    "\n",
    "'''"
   ]
  },
  {
   "cell_type": "code",
   "execution_count": 7,
   "id": "b1940e63",
   "metadata": {},
   "outputs": [],
   "source": [
    "suffix = '''\n",
    "::: center\n",
    "About [[Crisis *&* Opportunity]{.smallcaps}](about.html)\n",
    ":::'''"
   ]
  },
  {
   "cell_type": "code",
   "execution_count": 8,
   "id": "b1af7d57",
   "metadata": {},
   "outputs": [],
   "source": [
    "forthcoming = '''\n",
    "# Forthcoming\n",
    "* Thompson, Anna J. \"A Survey of Crime among Negroes in Philadelphia.\" *Opportunity* Vol 4, July-Sept.\n",
    "* Johnson, Charles S.  and Horace M. Bond. \"The Investigation of Racial Differences Prior to 1910.\" *The Journal of Negro Education*, Vol. 3, No. 3, (Jul., 1934), pp. 328-339. \n",
    "* Frazier, E. Franklin \"The Status of the Negro in the American Social Order.\" *The Journal of Negro Education*, Vol. 4, No. 3, (Jul., 1935), pp. 293-307 \n",
    "* Reid, Ira De A. \"Negro Immigration to the United States.\"  *Social Forces*, Mar., 1938, Vol. 16, No. 3 (Mar., 1938), pp. 411-417\n",
    "* Andrews, Norman P. \"The Negro in Politics\" *The Journal of Negro History* 1920 5:4, 420-436. \n",
    "'''"
   ]
  },
  {
   "cell_type": "code",
   "execution_count": 9,
   "id": "5620c438",
   "metadata": {},
   "outputs": [
    {
     "data": {
      "text/plain": [
       "39"
      ]
     },
     "execution_count": 9,
     "metadata": {},
     "output_type": "execute_result"
    }
   ],
   "source": [
    "df = pd.read_csv('articles.csv')\n",
    "len(df)"
   ]
  },
  {
   "cell_type": "code",
   "execution_count": 10,
   "id": "0219a951",
   "metadata": {},
   "outputs": [
    {
     "data": {
      "text/html": [
       "<div>\n",
       "<style scoped>\n",
       "    .dataframe tbody tr th:only-of-type {\n",
       "        vertical-align: middle;\n",
       "    }\n",
       "\n",
       "    .dataframe tbody tr th {\n",
       "        vertical-align: top;\n",
       "    }\n",
       "\n",
       "    .dataframe thead th {\n",
       "        text-align: right;\n",
       "    }\n",
       "</style>\n",
       "<table border=\"1\" class=\"dataframe\">\n",
       "  <thead>\n",
       "    <tr style=\"text-align: right;\">\n",
       "      <th></th>\n",
       "      <th>title</th>\n",
       "      <th>article_url</th>\n",
       "      <th>author</th>\n",
       "      <th>Journal</th>\n",
       "      <th>Year</th>\n",
       "      <th>artpng</th>\n",
       "      <th>Category</th>\n",
       "      <th>Unnamed: 7</th>\n",
       "    </tr>\n",
       "  </thead>\n",
       "  <tbody>\n",
       "    <tr>\n",
       "      <th>34</th>\n",
       "      <td>The Etiquette of Race Relations</td>\n",
       "      <td>etiquette</td>\n",
       "      <td>Bertram W. Doyle</td>\n",
       "      <td>The Journal of Negro Education</td>\n",
       "      <td>1936</td>\n",
       "      <td>cocktails</td>\n",
       "      <td>Education</td>\n",
       "      <td>NaN</td>\n",
       "    </tr>\n",
       "    <tr>\n",
       "      <th>35</th>\n",
       "      <td>Schools and the Vocational Life of Negroes</td>\n",
       "      <td>schools</td>\n",
       "      <td>Elise Johnson McDougald</td>\n",
       "      <td>Opportunity</td>\n",
       "      <td>1923</td>\n",
       "      <td>the-photographer</td>\n",
       "      <td>Education</td>\n",
       "      <td>NaN</td>\n",
       "    </tr>\n",
       "    <tr>\n",
       "      <th>36</th>\n",
       "      <td>Enumeration Errors in Negro Population</td>\n",
       "      <td>enumeration</td>\n",
       "      <td>Kelly Miller</td>\n",
       "      <td>The Scientific Monthly</td>\n",
       "      <td>1922</td>\n",
       "      <td>portrait-of-a-baby</td>\n",
       "      <td>Demography</td>\n",
       "      <td>NaN</td>\n",
       "    </tr>\n",
       "    <tr>\n",
       "      <th>37</th>\n",
       "      <td>Three Scourges of the Negro Family</td>\n",
       "      <td>scourges</td>\n",
       "      <td>E. Franklin Frazier</td>\n",
       "      <td>Opportunity</td>\n",
       "      <td>1926</td>\n",
       "      <td>sorrow</td>\n",
       "      <td>Family</td>\n",
       "      <td>NaN</td>\n",
       "    </tr>\n",
       "    <tr>\n",
       "      <th>38</th>\n",
       "      <td>Is the Negro Family a Unique Sociological Unit?</td>\n",
       "      <td>unique</td>\n",
       "      <td>E. Franklin Frazier</td>\n",
       "      <td>Opportunity</td>\n",
       "      <td>1927</td>\n",
       "      <td>harriet-tubman-series</td>\n",
       "      <td>Family</td>\n",
       "      <td>NaN</td>\n",
       "    </tr>\n",
       "  </tbody>\n",
       "</table>\n",
       "</div>"
      ],
      "text/plain": [
       "                                              title  article_url  \\\n",
       "34                  The Etiquette of Race Relations    etiquette   \n",
       "35       Schools and the Vocational Life of Negroes      schools   \n",
       "36           Enumeration Errors in Negro Population  enumeration   \n",
       "37               Three Scourges of the Negro Family     scourges   \n",
       "38  Is the Negro Family a Unique Sociological Unit?       unique   \n",
       "\n",
       "                     author                         Journal  Year  \\\n",
       "34         Bertram W. Doyle  The Journal of Negro Education  1936   \n",
       "35  Elise Johnson McDougald                     Opportunity  1923   \n",
       "36             Kelly Miller          The Scientific Monthly  1922   \n",
       "37      E. Franklin Frazier                     Opportunity  1926   \n",
       "38      E. Franklin Frazier                     Opportunity  1927   \n",
       "\n",
       "                   artpng    Category  Unnamed: 7  \n",
       "34              cocktails   Education         NaN  \n",
       "35       the-photographer   Education         NaN  \n",
       "36     portrait-of-a-baby  Demography         NaN  \n",
       "37                 sorrow      Family         NaN  \n",
       "38  harriet-tubman-series      Family         NaN  "
      ]
     },
     "execution_count": 10,
     "metadata": {},
     "output_type": "execute_result"
    }
   ],
   "source": [
    "df.tail()"
   ]
  },
  {
   "cell_type": "code",
   "execution_count": 17,
   "id": "7ab87dc8",
   "metadata": {},
   "outputs": [],
   "source": [
    "\n",
    "\n",
    "def apply_template(row):\n",
    "    \n",
    "    title = row['title']\n",
    "    article_url = row['article_url']\n",
    "    art_url = row['artpng'] + '.png'\n",
    "    art_credit = art_dict[row['artpng']]\n",
    "    journal = row['Journal']\n",
    "    year = row['Year']\n",
    "    author = row['author']\n",
    "    \n",
    "    if len(title)<30:\n",
    "        title = '&nbsp;<br>' + title\n",
    "                          \n",
    "    template = f'''\n",
    "::: article\n",
    "## [{title}](articles/{article_url}.html)\n",
    "### {author}\n",
    "[![](Images/{art_url})](articles/{article_url} \"{art_credit}\") \n",
    "*{journal}*, {year}.\n",
    ":::\n",
    "'''\n",
    "    \n",
    "    return template"
   ]
  },
  {
   "cell_type": "code",
   "execution_count": 18,
   "id": "cde1b795",
   "metadata": {
    "scrolled": true
   },
   "outputs": [],
   "source": [
    "df['md'] = df.apply(apply_template, axis=1)"
   ]
  },
  {
   "cell_type": "code",
   "execution_count": 19,
   "id": "b78a57f8",
   "metadata": {},
   "outputs": [],
   "source": [
    "order = ['Racial Identity', 'White Racism and Racial Violence', 'Great Migration and Urban Sociology',\n",
    "        'Labor', 'Women and Work', 'Social Movements', 'Crime', 'Education', 'Family', 'Demography']\n",
    "\n",
    "article_mds = ''\n",
    "for category in order:\n",
    "    article_mds = article_mds + f\"# {category}\\n\"\n",
    "    sdf = df[df['Category'] == category]\n",
    "    article_mds = article_mds + ''.join(sdf['md'].values)"
   ]
  },
  {
   "cell_type": "code",
   "execution_count": 20,
   "id": "653030ec",
   "metadata": {},
   "outputs": [],
   "source": [
    "md = prefix + article_mds + forthcoming + suffix"
   ]
  },
  {
   "cell_type": "code",
   "execution_count": 21,
   "id": "0167e800",
   "metadata": {},
   "outputs": [],
   "source": [
    "with open('markdown/index.md' ,'w') as outfile:\n",
    "    outfile.write(md)"
   ]
  },
  {
   "cell_type": "code",
   "execution_count": 22,
   "id": "c2229964",
   "metadata": {},
   "outputs": [],
   "source": [
    "!./build"
   ]
  },
  {
   "cell_type": "code",
   "execution_count": 23,
   "id": "3aa1d530",
   "metadata": {},
   "outputs": [
    {
     "data": {
      "text/plain": [
       "39"
      ]
     },
     "execution_count": 23,
     "metadata": {},
     "output_type": "execute_result"
    }
   ],
   "source": [
    "len(df)"
   ]
  },
  {
   "cell_type": "code",
   "execution_count": null,
   "id": "8f202b9e",
   "metadata": {},
   "outputs": [],
   "source": []
  }
 ],
 "metadata": {
  "kernelspec": {
   "display_name": "Python 3 (ipykernel)",
   "language": "python",
   "name": "python3"
  },
  "language_info": {
   "codemirror_mode": {
    "name": "ipython",
    "version": 3
   },
   "file_extension": ".py",
   "mimetype": "text/x-python",
   "name": "python",
   "nbconvert_exporter": "python",
   "pygments_lexer": "ipython3",
   "version": "3.9.16"
  }
 },
 "nbformat": 4,
 "nbformat_minor": 5
}
