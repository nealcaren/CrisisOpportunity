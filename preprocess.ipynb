{
 "cells": [
  {
   "cell_type": "code",
   "execution_count": 18,
   "id": "eceefc98",
   "metadata": {},
   "outputs": [],
   "source": [
    "import pandas as pd"
   ]
  },
  {
   "cell_type": "code",
   "execution_count": 19,
   "id": "125d8950",
   "metadata": {},
   "outputs": [],
   "source": [
    "df_art= pd.read_csv('art.csv')"
   ]
  },
  {
   "cell_type": "code",
   "execution_count": 20,
   "id": "7b3cbc31",
   "metadata": {},
   "outputs": [],
   "source": [
    "def make_art_cite(row):\n",
    "    artist = row['artist']\n",
    "    title = row['title']\n",
    "    year = row['year']\n",
    "    return f'{artist}, *{title}*, {year}'\n",
    "\n",
    "df_art['cite'] = df_art.apply(make_art_cite, axis=1)\n",
    "df_art['link'] = '![](Images/' + df_art['slug'] + '.png)'"
   ]
  },
  {
   "cell_type": "code",
   "execution_count": 21,
   "id": "a0631f68",
   "metadata": {},
   "outputs": [],
   "source": [
    "art_table = df_art.sort_values(by='year')[['link','cite']].to_markdown(index=False)\n",
    "with open('markdown/art.md', 'w') as outfile:\n",
    "    outfile.write(art_table)"
   ]
  },
  {
   "cell_type": "code",
   "execution_count": 22,
   "id": "df407fea",
   "metadata": {},
   "outputs": [],
   "source": [
    "art_dict = df_art.set_index('slug')['cite'].to_dict()"
   ]
  },
  {
   "cell_type": "code",
   "execution_count": 23,
   "id": "f29d5df9",
   "metadata": {},
   "outputs": [],
   "source": [
    "prefix = '''[&nbsp;]{.motto}\n",
    "\n",
    "'''"
   ]
  },
  {
   "cell_type": "code",
   "execution_count": 24,
   "id": "b1940e63",
   "metadata": {},
   "outputs": [],
   "source": [
    "suffix = '''\n",
    "::: center\n",
    "About [[Crisis *&* Opportunity]{.smallcaps}](about.html)\n",
    ":::'''"
   ]
  },
  {
   "cell_type": "code",
   "execution_count": 25,
   "id": "b1af7d57",
   "metadata": {},
   "outputs": [],
   "source": [
    "forthcoming = '''\n",
    "# Forthcoming\n",
    "* Thompson, Anna J. \"A Survey of Crime among Negroes in Philadelphia.\" *Opportunity* Vol 4, July-Sept.\n",
    "* Johnson, Charles S.  and Horace M. Bond. \"The Investigation of Racial Differences Prior to 1910.\" *The Journal of Negro Education*, Vol. 3, No. 3, (Jul., 1934), pp. 328-339. \n",
    "* Frazier, E. Franklin \"The Status of the Negro in the American Social Order.\" *The Journal of Negro Education*, Vol. 4, No. 3, (Jul., 1935), pp. 293-307 \n",
    "* Reid, Ira De A. \"Negro Immigration to the United States.\"  *Social Forces*, Mar., 1938, Vol. 16, No. 3 (Mar., 1938), pp. 411-417\n",
    "* Andrews, Norman P. \"The Negro in Politics\" *The Journal of Negro History* 1920 5:4, 420-436. \n",
    "'''"
   ]
  },
  {
   "cell_type": "code",
   "execution_count": 26,
   "id": "5620c438",
   "metadata": {},
   "outputs": [
    {
     "data": {
      "text/plain": [
       "42"
      ]
     },
     "execution_count": 26,
     "metadata": {},
     "output_type": "execute_result"
    }
   ],
   "source": [
    "df = pd.read_csv('articles.csv')\n",
    "len(df)"
   ]
  },
  {
   "cell_type": "code",
   "execution_count": 27,
   "id": "0219a951",
   "metadata": {},
   "outputs": [
    {
     "data": {
      "text/html": [
       "<div>\n",
       "<style scoped>\n",
       "    .dataframe tbody tr th:only-of-type {\n",
       "        vertical-align: middle;\n",
       "    }\n",
       "\n",
       "    .dataframe tbody tr th {\n",
       "        vertical-align: top;\n",
       "    }\n",
       "\n",
       "    .dataframe thead th {\n",
       "        text-align: right;\n",
       "    }\n",
       "</style>\n",
       "<table border=\"1\" class=\"dataframe\">\n",
       "  <thead>\n",
       "    <tr style=\"text-align: right;\">\n",
       "      <th></th>\n",
       "      <th>title</th>\n",
       "      <th>article_url</th>\n",
       "      <th>author</th>\n",
       "      <th>Journal</th>\n",
       "      <th>Year</th>\n",
       "      <th>artpng</th>\n",
       "      <th>Category</th>\n",
       "    </tr>\n",
       "  </thead>\n",
       "  <tbody>\n",
       "    <tr>\n",
       "      <th>37</th>\n",
       "      <td>Tactics and Programs of Minority Groups</td>\n",
       "      <td>critical_analysis</td>\n",
       "      <td>Ralph J. Bunche</td>\n",
       "      <td>Journal of Negro Education</td>\n",
       "      <td>1935</td>\n",
       "      <td>pool-parlor</td>\n",
       "      <td>Social Movements</td>\n",
       "    </tr>\n",
       "    <tr>\n",
       "      <th>38</th>\n",
       "      <td>Conflict of Caste and Class in an American Ind...</td>\n",
       "      <td>caste_and_class</td>\n",
       "      <td>Charles S. Johnson</td>\n",
       "      <td>American Journal of Sociology</td>\n",
       "      <td>1936</td>\n",
       "      <td>garmin</td>\n",
       "      <td>Labor and Economics</td>\n",
       "    </tr>\n",
       "    <tr>\n",
       "      <th>39</th>\n",
       "      <td>The Etiquette of Race Relations</td>\n",
       "      <td>etiquette</td>\n",
       "      <td>Bertram W. Doyle</td>\n",
       "      <td>The Journal of Negro Education</td>\n",
       "      <td>1936</td>\n",
       "      <td>cocktails</td>\n",
       "      <td>Education</td>\n",
       "    </tr>\n",
       "    <tr>\n",
       "      <th>40</th>\n",
       "      <td>Social Organization of the Negro&amp;nbsp;Communit...</td>\n",
       "      <td>social_organization</td>\n",
       "      <td>Horace R. Cayton and George S. Mitchell</td>\n",
       "      <td>Black Workers and the New Unions</td>\n",
       "      <td>1939</td>\n",
       "      <td>a-step-in-the-right-direction</td>\n",
       "      <td>Labor and Economics</td>\n",
       "    </tr>\n",
       "    <tr>\n",
       "      <th>41</th>\n",
       "      <td>Negro Elementary School and the Cultural Pattern</td>\n",
       "      <td>pattern</td>\n",
       "      <td>Horace Mann Bond</td>\n",
       "      <td>Journal of Educational Sociology</td>\n",
       "      <td>1940</td>\n",
       "      <td>congolaise</td>\n",
       "      <td>Education</td>\n",
       "    </tr>\n",
       "  </tbody>\n",
       "</table>\n",
       "</div>"
      ],
      "text/plain": [
       "                                                title          article_url  \\\n",
       "37            Tactics and Programs of Minority Groups    critical_analysis   \n",
       "38  Conflict of Caste and Class in an American Ind...      caste_and_class   \n",
       "39                    The Etiquette of Race Relations            etiquette   \n",
       "40  Social Organization of the Negro&nbsp;Communit...  social_organization   \n",
       "41   Negro Elementary School and the Cultural Pattern              pattern   \n",
       "\n",
       "                                     author                           Journal  \\\n",
       "37                          Ralph J. Bunche        Journal of Negro Education   \n",
       "38                       Charles S. Johnson     American Journal of Sociology   \n",
       "39                         Bertram W. Doyle    The Journal of Negro Education   \n",
       "40  Horace R. Cayton and George S. Mitchell  Black Workers and the New Unions   \n",
       "41                         Horace Mann Bond  Journal of Educational Sociology   \n",
       "\n",
       "    Year                         artpng             Category  \n",
       "37  1935                    pool-parlor     Social Movements  \n",
       "38  1936                         garmin  Labor and Economics  \n",
       "39  1936                      cocktails            Education  \n",
       "40  1939  a-step-in-the-right-direction  Labor and Economics  \n",
       "41  1940                     congolaise            Education  "
      ]
     },
     "execution_count": 27,
     "metadata": {},
     "output_type": "execute_result"
    }
   ],
   "source": [
    "df.tail()"
   ]
  },
  {
   "cell_type": "code",
   "execution_count": 35,
   "id": "7ab87dc8",
   "metadata": {},
   "outputs": [],
   "source": [
    "\n",
    "\n",
    "def apply_template(row):\n",
    "    \n",
    "    title = row['title']\n",
    "    article_url = row['article_url'] + '.html'\n",
    "    art_url = row['artpng'] + '.png'\n",
    "    art_credit = art_dict[row['artpng']]\n",
    "    journal = row['Journal']\n",
    "    year = row['Year']\n",
    "    author = row['author']\n",
    "    \n",
    "    if len(title)<30:\n",
    "        title = '&nbsp;<br>' + title\n",
    "                          \n",
    "    template = f'''\n",
    "::: article\n",
    "## [{title}](articles/{article_url})\n",
    "### {author}\n",
    "[![](Images/{art_url})](articles/{article_url} \"{art_credit}\") \n",
    "*{journal}*, {year}.\n",
    ":::\n",
    "'''\n",
    "    \n",
    "    return template"
   ]
  },
  {
   "cell_type": "code",
   "execution_count": 36,
   "id": "cde1b795",
   "metadata": {
    "scrolled": true
   },
   "outputs": [],
   "source": [
    "df['md'] = df.apply(apply_template, axis=1)"
   ]
  },
  {
   "cell_type": "code",
   "execution_count": 37,
   "id": "b78a57f8",
   "metadata": {},
   "outputs": [],
   "source": [
    "order = ['Racial Identity', 'White Racism and Racial Violence', 'Great Migration and Urban Sociology',\n",
    "        'Labor and Economics', 'Women and Work', 'Social Movements', 'Crime', 'Education', 'Family', 'Demography']\n",
    "\n",
    "article_mds = ''\n",
    "for category in order:\n",
    "    article_mds = article_mds + f\"# {category}\\n\"\n",
    "    sdf = df[df['Category'] == category]\n",
    "    article_mds = article_mds + ''.join(sdf['md'].values)"
   ]
  },
  {
   "cell_type": "code",
   "execution_count": 38,
   "id": "653030ec",
   "metadata": {},
   "outputs": [],
   "source": [
    "md = prefix + article_mds + forthcoming + suffix"
   ]
  },
  {
   "cell_type": "code",
   "execution_count": 39,
   "id": "0167e800",
   "metadata": {},
   "outputs": [],
   "source": [
    "with open('markdown/index.md' ,'w') as outfile:\n",
    "    outfile.write(md)"
   ]
  },
  {
   "cell_type": "code",
   "execution_count": 40,
   "id": "c2229964",
   "metadata": {},
   "outputs": [],
   "source": [
    "! ./build"
   ]
  },
  {
   "cell_type": "code",
   "execution_count": 41,
   "id": "3aa1d530",
   "metadata": {},
   "outputs": [
    {
     "data": {
      "text/plain": [
       "42"
      ]
     },
     "execution_count": 41,
     "metadata": {},
     "output_type": "execute_result"
    }
   ],
   "source": [
    "len(df)"
   ]
  },
  {
   "cell_type": "code",
   "execution_count": null,
   "id": "8f202b9e",
   "metadata": {},
   "outputs": [],
   "source": []
  },
  {
   "cell_type": "code",
   "execution_count": null,
   "id": "50edb761",
   "metadata": {},
   "outputs": [],
   "source": []
  }
 ],
 "metadata": {
  "kernelspec": {
   "display_name": "Python 3 (ipykernel)",
   "language": "python",
   "name": "python3"
  },
  "language_info": {
   "codemirror_mode": {
    "name": "ipython",
    "version": 3
   },
   "file_extension": ".py",
   "mimetype": "text/x-python",
   "name": "python",
   "nbconvert_exporter": "python",
   "pygments_lexer": "ipython3",
   "version": "3.9.16"
  }
 },
 "nbformat": 4,
 "nbformat_minor": 5
}
