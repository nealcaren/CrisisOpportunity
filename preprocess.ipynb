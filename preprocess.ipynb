{
 "cells": [
  {
   "cell_type": "code",
   "execution_count": 85,
   "id": "eceefc98",
   "metadata": {},
   "outputs": [],
   "source": [
    "import pandas as pd\n",
    "\n",
    "import random\n"
   ]
  },
  {
   "cell_type": "code",
   "execution_count": 2,
   "id": "125d8950",
   "metadata": {},
   "outputs": [],
   "source": [
    "df_art= pd.read_csv('art.csv')"
   ]
  },
  {
   "cell_type": "code",
   "execution_count": 3,
   "id": "7b3cbc31",
   "metadata": {},
   "outputs": [],
   "source": [
    "def make_art_cite(row):\n",
    "    artist = row['artist']\n",
    "    title = row['title']\n",
    "    year = row['year']\n",
    "    return f'{artist}, *{title}*, {year}'\n",
    "\n",
    "df_art['cite'] = df_art.apply(make_art_cite, axis=1)\n",
    "df_art['link'] = '![](Images/' + df_art['slug'] + '.png)'"
   ]
  },
  {
   "cell_type": "code",
   "execution_count": 4,
   "id": "a0631f68",
   "metadata": {},
   "outputs": [],
   "source": [
    "art_table = df_art.sort_values(by='year')[['link','cite']].to_markdown(index=False)\n",
    "with open('markdown/art.md', 'w') as outfile:\n",
    "    outfile.write(art_table)"
   ]
  },
  {
   "cell_type": "code",
   "execution_count": 5,
   "id": "df407fea",
   "metadata": {},
   "outputs": [],
   "source": [
    "art_dict = df_art.set_index('slug')['cite'].to_dict()"
   ]
  },
  {
   "cell_type": "code",
   "execution_count": 6,
   "id": "f29d5df9",
   "metadata": {},
   "outputs": [],
   "source": [
    "prefix = '''[&nbsp;]{.motto}\n",
    "\n",
    "'''"
   ]
  },
  {
   "cell_type": "code",
   "execution_count": 7,
   "id": "b1940e63",
   "metadata": {},
   "outputs": [],
   "source": [
    "suffix = '''\n",
    "::: center\n",
    "About [[Crisis *&* Opportunity]{.smallcaps}](about.html)\n",
    ":::'''"
   ]
  },
  {
   "cell_type": "code",
   "execution_count": 8,
   "id": "b1af7d57",
   "metadata": {},
   "outputs": [],
   "source": [
    "forthcoming = '''\n",
    "# Forthcoming\n",
    "* Thompson, Anna J. \"A Survey of Crime among Negroes in Philadelphia.\" *Opportunity* Vol 4, July-Sept.\n",
    "* Johnson, Charles S.  and Horace M. Bond. \"The Investigation of Racial Differences Prior to 1910.\" *The Journal of Negro Education*, Vol. 3, No. 3, (Jul., 1934), pp. 328-339. \n",
    "* Frazier, E. Franklin \"The Status of the Negro in the American Social Order.\" *The Journal of Negro Education*, Vol. 4, No. 3, (Jul., 1935), pp. 293-307 \n",
    "* Reid, Ira De A. \"Negro Immigration to the United States.\"  *Social Forces*, Mar., 1938, Vol. 16, No. 3 (Mar., 1938), pp. 411-417\n",
    "* Andrews, Norman P. \"The Negro in Politics\" *The Journal of Negro History* 1920 5:4, 420-436. \n",
    "'''"
   ]
  },
  {
   "cell_type": "code",
   "execution_count": 9,
   "id": "5620c438",
   "metadata": {},
   "outputs": [
    {
     "data": {
      "text/plain": [
       "47"
      ]
     },
     "execution_count": 9,
     "metadata": {},
     "output_type": "execute_result"
    }
   ],
   "source": [
    "df = pd.read_csv('articles.csv')\n",
    "len(df)"
   ]
  },
  {
   "cell_type": "code",
   "execution_count": 10,
   "id": "0219a951",
   "metadata": {},
   "outputs": [],
   "source": [
    "df = df.sort_values(by='Year')"
   ]
  },
  {
   "cell_type": "code",
   "execution_count": 11,
   "id": "7ab87dc8",
   "metadata": {},
   "outputs": [],
   "source": [
    "\n",
    "\n",
    "def apply_template(row):\n",
    "    \n",
    "    title = row['title']\n",
    "    article_url = row['article_url'] + '.html'\n",
    "    art_url = row['artpng'] + '.png'\n",
    "    art_credit = art_dict[row['artpng']]\n",
    "    journal = row['Journal']\n",
    "    year = row['Year']\n",
    "    author = row['author']\n",
    "    \n",
    "    if len(title)<30:\n",
    "        title = '&nbsp;<br>' + title\n",
    "                          \n",
    "    template = f'''\n",
    "::: article\n",
    "## [{title}](articles/{article_url})\n",
    "### {author}\n",
    "[![](Images/{art_url})](articles/{article_url} \"{art_credit}\") \n",
    "*{journal}*, {year}.\n",
    ":::\n",
    "'''\n",
    "    \n",
    "    return template"
   ]
  },
  {
   "cell_type": "code",
   "execution_count": 12,
   "id": "cde1b795",
   "metadata": {
    "scrolled": true
   },
   "outputs": [],
   "source": [
    "df['md'] = df.apply(apply_template, axis=1)"
   ]
  },
  {
   "cell_type": "code",
   "execution_count": 13,
   "id": "b78a57f8",
   "metadata": {},
   "outputs": [],
   "source": [
    "order = ['Racial Identity', 'White Racism and Racial Violence',  'Great Migration and Urban Sociology',\n",
    "        'Labor and Economics','Women and Work',  'Health and Populations', 'Social Movements', 'Methods','Crime', 'Education', 'Family',]\n",
    "\n",
    "article_mds = ''\n",
    "for category in order:\n",
    "    article_mds = article_mds + f\"# {category}\\n\"\n",
    "    sdf = df[df['Category'] == category]\n",
    "    article_mds = article_mds + ''.join(sdf['md'].values)"
   ]
  },
  {
   "cell_type": "code",
   "execution_count": 14,
   "id": "653030ec",
   "metadata": {},
   "outputs": [],
   "source": [
    "md = prefix + article_mds + forthcoming + suffix"
   ]
  },
  {
   "cell_type": "code",
   "execution_count": 15,
   "id": "0167e800",
   "metadata": {},
   "outputs": [],
   "source": [
    "with open('markdown/index.md' ,'w') as outfile:\n",
    "    outfile.write(md)"
   ]
  },
  {
   "cell_type": "code",
   "execution_count": 16,
   "id": "c2229964",
   "metadata": {},
   "outputs": [],
   "source": [
    "# ! ./build"
   ]
  },
  {
   "cell_type": "code",
   "execution_count": 17,
   "id": "3aa1d530",
   "metadata": {},
   "outputs": [],
   "source": [
    "# build"
   ]
  },
  {
   "cell_type": "code",
   "execution_count": 18,
   "id": "8f202b9e",
   "metadata": {},
   "outputs": [],
   "source": [
    "\n",
    "v = random.randint(100, 300)\n",
    "for article_url in df['article_url'].values:\n",
    "    cmd = f'pandoc -s -o docs/articles/{article_url}.html --template=templates/article_html.template markdown/{article_url}.md  --css=\"article_style.css?id={v}\"'\n",
    "    ! {cmd}\n"
   ]
  },
  {
   "cell_type": "code",
   "execution_count": 19,
   "id": "50edb761",
   "metadata": {},
   "outputs": [],
   "source": [
    "about = f'pandoc -s   -o docs/about.html --template=templates/html.template markdown/about.md  --css=\"style.css?id={v}\" --metadata title=\"About\"'\n",
    "index = f'pandoc -s   -o docs/index.html --template=templates/html.template markdown/index.md  --css=\"style.css?id={v}\" --metadata title=\"C&O\"'\n",
    "art =   f'pandoc -s   -o docs/art.html --template=templates/html.template markdown/art.md  --css=\"style.css?id={v}\" --metadata title=\"Art\"'\n",
    "! {about}\n",
    "! {index}\n",
    "! {art}\n"
   ]
  },
  {
   "cell_type": "code",
   "execution_count": 20,
   "id": "8fd4bf49",
   "metadata": {},
   "outputs": [
    {
     "data": {
      "text/plain": [
       "47"
      ]
     },
     "execution_count": 20,
     "metadata": {},
     "output_type": "execute_result"
    }
   ],
   "source": [
    "len(df)"
   ]
  },
  {
   "cell_type": "code",
   "execution_count": 26,
   "id": "bbdad2e3",
   "metadata": {},
   "outputs": [],
   "source": [
    "import yaml"
   ]
  },
  {
   "cell_type": "code",
   "execution_count": 86,
   "id": "45ca2375",
   "metadata": {},
   "outputs": [
    {
     "name": "stdout",
     "output_type": "stream",
     "text": [
      "214,450\n"
     ]
    }
   ],
   "source": [
    "total_wc = 0\n",
    "\n",
    "order = ['Racial Identity', 'White Racism and Racial Violence',  'Great Migration and Urban Sociology',\n",
    "        'Labor and Economics','Women and Work',  'Health and Populations', 'Social Movements', 'Methods','Crime', 'Education', 'Family',]\n",
    "\n",
    "md_string = '# Current Articles\\n\\n'\n",
    "\n",
    "for category in order:\n",
    "    md_string = md_string + f\"\\n## {category}\\n\\n\"\n",
    "    sdf = df[df['Category'] == category]\n",
    "    for url in sdf['article_url'].values:\n",
    "\n",
    "        fn = f'markdown/{url}.md'\n",
    "        with open(fn,'r') as infile:\n",
    "            md = infile.read()\n",
    "        yaml_string = md.split('---\\n')[1]\n",
    "        meta = yaml.safe_load(yaml_string)\n",
    "\n",
    "        author = meta['author'][0]['name']\n",
    "        citation = meta['citation']\n",
    "        title = meta['title']\n",
    "        word_count = len(' '.join(md.split('---\\n')[2:]).split(' '))\n",
    "        total_wc = total_wc + word_count\n",
    "\n",
    "        md_string = md_string +  f'* {author}. <br>\"{title}.\" <br>{citation}<br> Word count: {word_count:,.0f}\\n'\n",
    "        \n",
    "print(f'{total_wc:,.0f}')"
   ]
  },
  {
   "cell_type": "code",
   "execution_count": 83,
   "id": "7ee8fce8",
   "metadata": {},
   "outputs": [],
   "source": [
    "with open('summary.md', 'w') as outfile:\n",
    "    outfile.write(md_string)"
   ]
  },
  {
   "cell_type": "code",
   "execution_count": 84,
   "id": "c640a142",
   "metadata": {},
   "outputs": [],
   "source": [
    "!pandoc -o summary.docx summary.md"
   ]
  },
  {
   "cell_type": "code",
   "execution_count": 80,
   "id": "ab5fed26",
   "metadata": {},
   "outputs": [
    {
     "data": {
      "text/plain": [
       "'Negro Personality Changes in a Southern Community'"
      ]
     },
     "execution_count": 80,
     "metadata": {},
     "output_type": "execute_result"
    }
   ],
   "source": []
  },
  {
   "cell_type": "code",
   "execution_count": 40,
   "id": "d17416e0",
   "metadata": {},
   "outputs": [
    {
     "data": {
      "text/plain": [
       "15180"
      ]
     },
     "execution_count": 40,
     "metadata": {},
     "output_type": "execute_result"
    }
   ],
   "source": [
    "word_count"
   ]
  },
  {
   "cell_type": "code",
   "execution_count": null,
   "id": "b4276a39",
   "metadata": {},
   "outputs": [],
   "source": []
  }
 ],
 "metadata": {
  "kernelspec": {
   "display_name": "Python 3 (ipykernel)",
   "language": "python",
   "name": "python3"
  },
  "language_info": {
   "codemirror_mode": {
    "name": "ipython",
    "version": 3
   },
   "file_extension": ".py",
   "mimetype": "text/x-python",
   "name": "python",
   "nbconvert_exporter": "python",
   "pygments_lexer": "ipython3",
   "version": "3.10.9"
  }
 },
 "nbformat": 4,
 "nbformat_minor": 5
}
